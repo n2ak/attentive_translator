{
  "cells": [
    {
      "cell_type": "code",
      "source": [
        "#!git clone https://github.com/n2ak/attentive_translator\n",
        "%cd attentive_translator"
      ],
      "metadata": {
        "colab": {
          "base_uri": "https://localhost:8080/"
        },
        "id": "yy0oCQXNLMY8",
        "outputId": "5758346c-8a14-46c3-bd4a-c8b2a9a35f5e"
      },
      "execution_count": 1,
      "outputs": [
        {
          "output_type": "stream",
          "name": "stdout",
          "text": [
            "/content/attentive_translator\n"
          ]
        }
      ]
    },
    {
      "cell_type": "code",
      "source": [
        "!pwd"
      ],
      "metadata": {
        "colab": {
          "base_uri": "https://localhost:8080/"
        },
        "id": "GJdvlQG1LPUH",
        "outputId": "c945cc8a-18e9-4300-a130-bd28a26b3bba"
      },
      "execution_count": 2,
      "outputs": [
        {
          "output_type": "stream",
          "name": "stdout",
          "text": [
            "/content/attentive_translator\n"
          ]
        }
      ]
    },
    {
      "cell_type": "code",
      "execution_count": 3,
      "metadata": {
        "id": "Fi-SFMkeQ6pB",
        "outputId": "1e76b9e7-16f3-4510-ce85-761fe9456195",
        "colab": {
          "base_uri": "https://localhost:8080/"
        }
      },
      "outputs": [
        {
          "output_type": "execute_result",
          "data": {
            "text/plain": [
              "<torch._C.Generator at 0x7f10b853e410>"
            ]
          },
          "metadata": {},
          "execution_count": 3
        }
      ],
      "source": [
        "%load_ext autoreload\n",
        "%autoreload 2\n",
        "import torch\n",
        "from model import *\n",
        "from train import *\n",
        "\n",
        "from attentive_translator.test import *\n",
        "import string\n",
        "from attentive_translator.utils import *\n",
        "torch.manual_seed(1337)"
      ]
    },
    {
      "cell_type": "code",
      "execution_count": 4,
      "metadata": {
        "id": "LBmhexK9K__P"
      },
      "outputs": [],
      "source": [
        "src_path = \"./resources/news-commentary-v9.fr-en.en\"\n",
        "dst_path = \"./resources/news-commentary-v9.fr-en.fr\"\n",
        "N = 3\n",
        "n_embeddings = 32\n",
        "n_head = 4\n",
        "device = \"cuda\"\n",
        "block_size = 50\n",
        "start_token,end_token = \"[\",\"]\""
      ]
    },
    {
      "cell_type": "code",
      "execution_count": 15,
      "metadata": {
        "colab": {
          "base_uri": "https://localhost:8080/"
        },
        "id": "4e2BYnpgQ6pK",
        "outputId": "fb9ca95b-dec9-4e06-9c79-e0354647373e"
      },
      "outputs": [
        {
          "output_type": "stream",
          "name": "stdout",
          "text": [
            "Found 10000 lines\n",
            "Found 9981 lines\n"
          ]
        },
        {
          "output_type": "execute_result",
          "data": {
            "text/plain": [
              "(88, 97, 1680096)"
            ]
          },
          "metadata": {},
          "execution_count": 15
        }
      ],
      "source": [
        "src,src_vocab,dst,dst_vocab,chars = prepare_data(\n",
        "    src_path,\n",
        "    dst_path,\n",
        "    50,\n",
        "    add_start_end_tokens=True,\n",
        "    num_lines=10_000,\n",
        "    start_token=start_token,\n",
        "    end_token=end_token,\n",
        "    remove_lines_containing_tokens=True\n",
        ")\n",
        "encoder_vocab_size = len(src_vocab)\n",
        "decoder_vocab_size = len(dst_vocab)\n",
        "encoder_vocab_size,decoder_vocab_size,len(chars)"
      ]
    },
    {
      "cell_type": "code",
      "execution_count": null,
      "metadata": {
        "id": "q7XXMpzGK__R"
      },
      "outputs": [],
      "source": [
        "# for input,target,next_char in zip(decode_all(src,src_vocab),decode_all(dst,dst_vocab),decode(chars,dst_vocab)):\n",
        "#     print(input,\"   \",target,\"   ---->   \",next_char)"
      ]
    },
    {
      "cell_type": "code",
      "execution_count": 16,
      "metadata": {
        "id": "79LbXwaJQ6pM"
      },
      "outputs": [],
      "source": [
        "model = AttentiveTranslator(\n",
        "    N,\n",
        "    encoder_vocab_size,\n",
        "    decoder_vocab_size,\n",
        "    n_embeddings,\n",
        "    n_head,\n",
        "    src.shape,\n",
        "    dst.shape,\n",
        "    device=device\n",
        ").to(device=device)"
      ]
    },
    {
      "cell_type": "code",
      "execution_count": 17,
      "metadata": {
        "id": "MVma7dYWK__S",
        "outputId": "2242a9df-1a2f-4326-a5df-80d972ef3f2b",
        "colab": {
          "base_uri": "https://localhost:8080/"
        }
      },
      "outputs": [
        {
          "output_type": "execute_result",
          "data": {
            "text/plain": [
              "(1344076, 336020, 1344076, 336020, 1344076, 336020)"
            ]
          },
          "metadata": {},
          "execution_count": 17
        }
      ],
      "source": [
        "src_train,src_valid,dst_train,dst_valid,chars_train,chars_valid = split(src,dst,chars)\n",
        "len(src_train),len(src_valid),len(dst_train),len(dst_valid),len(chars_train),len(chars_valid)"
      ]
    },
    {
      "cell_type": "code",
      "execution_count": 18,
      "metadata": {
        "colab": {
          "base_uri": "https://localhost:8080/"
        },
        "id": "ab2zTeIbQ6pN",
        "outputId": "29694c36-cd42-4726-a40c-1253a9a8d4c4"
      },
      "outputs": [
        {
          "output_type": "stream",
          "name": "stderr",
          "text": [
            "Loss: 1.8434727191925049: 100%|██████████| 42003/42003 [15:50<00:00, 44.19it/s]\n"
          ]
        }
      ],
      "source": [
        "batch_size = 32 * 2\n",
        "\n",
        "#model = model.to(memory_format=torch.channels_last)\n",
        "optim = torch.optim.Adam(\n",
        "    model.parameters()\n",
        ")\n",
        "loss_fn = torch.nn.functional.cross_entropy\n",
        "train_loader = arrays_to_loader(src_train,dst_train,chars_train,batch_size=batch_size)"
      ]
    },
    {
      "cell_type": "code",
      "source": [
        "epochs = 1\n",
        "train(model,optim,loss_fn,epochs,train_loader,device,dst_vocab)"
      ],
      "metadata": {
        "id": "-iZq_vNZQEtn"
      },
      "execution_count": null,
      "outputs": []
    },
    {
      "cell_type": "code",
      "execution_count": 24,
      "metadata": {
        "id": "oqtyWNc6K__T",
        "outputId": "6c2a9c4f-365d-400d-d17e-d74dc83bca81",
        "colab": {
          "base_uri": "https://localhost:8080/",
          "height": 35
        }
      },
      "outputs": [
        {
          "output_type": "execute_result",
          "data": {
            "text/plain": [
              "\"la prisse de l'autre de l'autre de la prisse de la\""
            ],
            "application/vnd.google.colaboratory.intrinsic+json": {
              "type": "string"
            }
          },
          "metadata": {},
          "execution_count": 24
        }
      ],
      "source": [
        "#from test import translate\n",
        "translate(\n",
        "    model,\n",
        "    \"its better to be quiet\".lower(),\n",
        "    block_size,\n",
        "    src_vocab,\n",
        "    dst_vocab,\n",
        "    device,\n",
        "    start_char=start_token,\n",
        "    stop_char=end_token,\n",
        ")"
      ]
    }
  ],
  "metadata": {
    "accelerator": "GPU",
    "colab": {
      "gpuType": "T4",
      "provenance": []
    },
    "kernelspec": {
      "display_name": "Python 3",
      "name": "python3"
    },
    "language_info": {
      "codemirror_mode": {
        "name": "ipython",
        "version": 3
      },
      "file_extension": ".py",
      "mimetype": "text/x-python",
      "name": "python",
      "nbconvert_exporter": "python",
      "pygments_lexer": "ipython3",
      "version": "3.9.5"
    },
    "orig_nbformat": 4
  },
  "nbformat": 4,
  "nbformat_minor": 0
}