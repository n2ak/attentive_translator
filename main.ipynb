{
  "cells": [
    {
      "cell_type": "code",
      "execution_count": 1,
      "metadata": {},
      "outputs": [
        {
          "name": "stdout",
          "output_type": "stream",
          "text": [
            "The autoreload extension is already loaded. To reload it, use:\n",
            "  %reload_ext autoreload\n"
          ]
        }
      ],
      "source": [
        "%load_ext autoreload\n",
        "%autoreload 2"
      ]
    },
    {
      "cell_type": "code",
      "execution_count": 2,
      "metadata": {},
      "outputs": [],
      "source": [
        "import torch"
      ]
    },
    {
      "cell_type": "code",
      "execution_count": 3,
      "metadata": {},
      "outputs": [
        {
          "data": {
            "text/plain": [
              "torch.Size([1, 10])"
            ]
          },
          "execution_count": 3,
          "metadata": {},
          "output_type": "execute_result"
        }
      ],
      "source": [
        "vocab_size = 10\n",
        "time = 10\n",
        "data = torch.randint(0,vocab_size,(1,time)).long()\n",
        "data.shape"
      ]
    },
    {
      "cell_type": "code",
      "execution_count": 46,
      "metadata": {},
      "outputs": [],
      "source": [
        "with open(\"data.txt\") as f:\n",
        "    data = f.read()\n",
        "vocab = list(sorted(set(data)))\n",
        "stoi = {v:i for (i,v) in enumerate(vocab)}\n",
        "itos = {v:k for (k,v) in stoi.items()}\n",
        "encode = lambda l:[stoi[i] for i in l]\n",
        "decode = lambda l:''.join([itos[i] for i in l])\n",
        "\n",
        "context_length = 10\n",
        "n_embeddings = 10\n",
        "n_heads = 2\n",
        "x_train = []\n",
        "y_train = []\n",
        "\n",
        "for i in range(len(data) - context_length):\n",
        "    x = data[i  : i+context_length]\n",
        "    logits = data[i+1: i+1+context_length]\n",
        "    x_train.append(encode(x))\n",
        "    y_train.append(encode(logits))"
      ]
    },
    {
      "cell_type": "code",
      "execution_count": 47,
      "metadata": {},
      "outputs": [],
      "source": [
        "x_train = torch.tensor(x_train)\n",
        "y_train = torch.tensor(y_train)"
      ]
    },
    {
      "cell_type": "code",
      "execution_count": 49,
      "metadata": {},
      "outputs": [
        {
          "data": {
            "text/plain": [
              "(torch.Size([1115384, 10]), torch.Size([1115384, 10]))"
            ]
          },
          "execution_count": 49,
          "metadata": {},
          "output_type": "execute_result"
        }
      ],
      "source": [
        "x_train.shape,y_train.shape"
      ]
    },
    {
      "cell_type": "code",
      "execution_count": 53,
      "metadata": {},
      "outputs": [
        {
          "data": {
            "text/plain": [
              "(tensor(64), 65)"
            ]
          },
          "execution_count": 53,
          "metadata": {},
          "output_type": "execute_result"
        }
      ],
      "source": []
    },
    {
      "cell_type": "code",
      "execution_count": 21,
      "metadata": {},
      "outputs": [],
      "source": [
        "from decoder import Decoder"
      ]
    },
    {
      "cell_type": "code",
      "execution_count": 65,
      "metadata": {},
      "outputs": [],
      "source": [
        "from torch import nn"
      ]
    },
    {
      "cell_type": "code",
      "execution_count": 219,
      "metadata": {},
      "outputs": [
        {
          "ename": "ImportError",
          "evalue": "cannot import name 'dataclass' from 'collections' (c:\\Users\\PyCy\\AppData\\Local\\Programs\\Python\\Python39\\lib\\collections\\__init__.py)",
          "output_type": "error",
          "traceback": [
            "\u001b[1;31m---------------------------------------------------------------------------\u001b[0m",
            "\u001b[1;31mImportError\u001b[0m                               Traceback (most recent call last)",
            "Cell \u001b[1;32mIn[219], line 1\u001b[0m\n\u001b[1;32m----> 1\u001b[0m \u001b[38;5;28;01mfrom\u001b[39;00m \u001b[38;5;21;01mgpt\u001b[39;00m \u001b[38;5;28;01mimport\u001b[39;00m GPTConfig, GPT\n\u001b[0;32m      2\u001b[0m GPT()\n",
            "File \u001b[1;32mf:\\per\\git\\translator\\gpt.py:4\u001b[0m\n\u001b[0;32m      2\u001b[0m \u001b[38;5;28;01mfrom\u001b[39;00m \u001b[38;5;21;01mtorch\u001b[39;00m \u001b[38;5;28;01mimport\u001b[39;00m nn\n\u001b[0;32m      3\u001b[0m \u001b[38;5;28;01mfrom\u001b[39;00m \u001b[38;5;21;01mdecoder\u001b[39;00m \u001b[38;5;28;01mimport\u001b[39;00m Decoder\n\u001b[1;32m----> 4\u001b[0m \u001b[38;5;28;01mfrom\u001b[39;00m \u001b[38;5;21;01mcollections\u001b[39;00m \u001b[38;5;28;01mimport\u001b[39;00m dataclass\n\u001b[0;32m      7\u001b[0m \u001b[38;5;129m@dataclass\u001b[39m\n\u001b[0;32m      8\u001b[0m \u001b[38;5;28;01mclass\u001b[39;00m \u001b[38;5;21;01mGPTConfig\u001b[39;00m:\n\u001b[0;32m      9\u001b[0m     N: \u001b[38;5;28mint\u001b[39m\n",
            "\u001b[1;31mImportError\u001b[0m: cannot import name 'dataclass' from 'collections' (c:\\Users\\PyCy\\AppData\\Local\\Programs\\Python\\Python39\\lib\\collections\\__init__.py)"
          ]
        }
      ],
      "source": []
    },
    {
      "cell_type": "code",
      "execution_count": 223,
      "metadata": {},
      "outputs": [
        {
          "data": {
            "text/plain": [
              "125265"
            ]
          },
          "execution_count": 223,
          "metadata": {},
          "output_type": "execute_result"
        }
      ],
      "source": [
        "from gpt import GPTConfig,GPT\n",
        "model = GPT(\n",
        "    GPTConfig(\n",
        "        N=1,\n",
        "        vocab_size=len(vocab),\n",
        "        n_embeddings=100,\n",
        "        context_length=context_length,\n",
        "        n_heads=10,\n",
        "        ff_scale=4\n",
        "    )\n",
        ")\n",
        "optim = torch.optim.Adam(model.parameters())\n",
        "(sum([p.numel() for p in model.parameters()]))"
      ]
    },
    {
      "cell_type": "code",
      "execution_count": 183,
      "metadata": {},
      "outputs": [],
      "source": [
        "losses = []"
      ]
    },
    {
      "cell_type": "code",
      "execution_count": 226,
      "metadata": {},
      "outputs": [
        {
          "name": "stderr",
          "output_type": "stream",
          "text": [
            "100%|██████████| 1/1 [00:00<00:00, 21.86it/s]\n"
          ]
        },
        {
          "data": {
            "text/plain": [
              "tensor(1.9899)"
            ]
          },
          "execution_count": 226,
          "metadata": {},
          "output_type": "execute_result"
        },
        {
          "data": {
            "image/png": "[encoded data removed]",
            "text/plain": [
              "<Figure size 640x480 with 1 Axes>"
            ]
          },
          "metadata": {},
          "output_type": "display_data"
        }
      ],
      "source": [
        "batch_size = 32\n",
        "def get_batch(size):\n",
        "    indices = torch.randint(len(data) - context_length, (size,))\n",
        "    return (x_train[indices]), (y_train[indices])\n",
        "import tqdm\n",
        "for _ in tqdm.tqdm(range(1)):\n",
        "    x, y = get_batch(batch_size)\n",
        "    optim.zero_grad(set_to_none=True)\n",
        "    logits, loss = model(x, y)\n",
        "    loss.backward()\n",
        "    optim.step()\n",
        "    losses.append(loss.item())\n",
        "import matplotlib.pyplot as plt\n",
        "plt.plot(losses)\n",
        "torch.mean(torch.tensor(losses[-100:]))"
      ]
    },
    {
      "cell_type": "code",
      "execution_count": 215,
      "metadata": {},
      "outputs": [
        {
          "name": "stdout",
          "output_type": "stream",
          "text": [
            "[44, 44]\n"
          ]
        },
        {
          "data": {
            "text/plain": [
              "'        ff be bidner his eve caspoffed fame cutress all Conf, acched, on, and and amaf for disged ha'"
            ]
          },
          "execution_count": 215,
          "metadata": {},
          "output_type": "execute_result"
        }
      ],
      "source": [
        "def generate(model,context,length):\n",
        "    context = encode(context)\n",
        "    print(context)\n",
        "    if len(context)<context_length:\n",
        "        context = ([stoi[\" \"]]*(context_length-len(context))) + context\n",
        "    text = context\n",
        "    while len(context)<length:\n",
        "        d = text[-context_length:]\n",
        "        logits ,_= model(torch.tensor([d]))\n",
        "        logits = logits[:,-1,:]\n",
        "        next = logits.argmax(-1)\n",
        "        a = torch.multinomial(logits.softmax(-1),1)[0]\n",
        "        next = a\n",
        "        text.append(next[0].item())\n",
        "    return decode(text)\n",
        "generate(model,\"ff\",100)"
      ]
    }
  ],
  "metadata": {
    "accelerator": "GPU",
    "colab": {
      "gpuType": "T4",
      "provenance": []
    },
    "kernelspec": {
      "display_name": "Python 3",
      "name": "python3"
    },
    "language_info": {
      "codemirror_mode": {
        "name": "ipython",
        "version": 3
      },
      "file_extension": ".py",
      "mimetype": "text/x-python",
      "name": "python",
      "nbconvert_exporter": "python",
      "pygments_lexer": "ipython3",
      "version": "3.9.5"
    },
    "orig_nbformat": 4
  },
  "nbformat": 4,
  "nbformat_minor": 0
}
