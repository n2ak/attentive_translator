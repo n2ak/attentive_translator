{
  "cells": [
    {
      "cell_type": "code",
      "execution_count": 23,
      "metadata": {},
      "outputs": [
        {
          "name": "stdout",
          "output_type": "stream",
          "text": [
            "The autoreload extension is already loaded. To reload it, use:\n",
            "  %reload_ext autoreload\n"
          ]
        }
      ],
      "source": [
        "%load_ext autoreload\n",
        "%autoreload 2"
      ]
    },
    {
      "cell_type": "code",
      "execution_count": 24,
      "metadata": {},
      "outputs": [
        {
          "name": "stderr",
          "output_type": "stream",
          "text": [
            "'wget' is not recognized as an internal or external command,\n",
            "operable program or batch file.\n"
          ]
        }
      ],
      "source": [
        "!wget https://raw.githubusercontent.com/karpathy/char-rnn/master/data/tinyshakespeare/input.txt"
      ]
    },
    {
      "cell_type": "code",
      "execution_count": 25,
      "metadata": {},
      "outputs": [],
      "source": [
        "import torch"
      ]
    },
    {
      "cell_type": "code",
      "execution_count": 26,
      "metadata": {},
      "outputs": [
        {
          "data": {
            "text/plain": [
              "torch.Size([1, 10])"
            ]
          },
          "execution_count": 26,
          "metadata": {},
          "output_type": "execute_result"
        }
      ],
      "source": [
        "vocab_size = 10\n",
        "time = 10\n",
        "data = torch.randint(0,vocab_size,(1,time)).long()\n",
        "data.shape"
      ]
    },
    {
      "cell_type": "code",
      "execution_count": 27,
      "metadata": {},
      "outputs": [],
      "source": [
        "with open(\"data.txt\") as f:\n",
        "    data = f.read()\n",
        "vocab = list(sorted(set(data)))\n",
        "stoi = {v:i for (i,v) in enumerate(vocab)}\n",
        "itos = {v:k for (k,v) in stoi.items()}\n",
        "encode = lambda l:[stoi[i] for i in l]\n",
        "decode = lambda l:''.join([itos[i] for i in l])\n",
        "\n",
        "context_length = 10\n",
        "n_embeddings = 10\n",
        "n_heads = 2\n",
        "x_train = []\n",
        "y_train = []\n",
        "\n",
        "for i in range(len(data) - context_length):\n",
        "    x = data[i  : i+context_length]\n",
        "    logits = data[i+1: i+1+context_length]\n",
        "    x_train.append(encode(x))\n",
        "    y_train.append(encode(logits))"
      ]
    },
    {
      "cell_type": "code",
      "execution_count": 28,
      "metadata": {},
      "outputs": [],
      "source": [
        "x_train = torch.tensor(x_train)\n",
        "y_train = torch.tensor(y_train)"
      ]
    },
    {
      "cell_type": "code",
      "execution_count": 29,
      "metadata": {},
      "outputs": [
        {
          "data": {
            "text/plain": [
              "125265"
            ]
          },
          "execution_count": 29,
          "metadata": {},
          "output_type": "execute_result"
        }
      ],
      "source": [
        "from gpt import GPTConfig,GPT\n",
        "model = GPT(\n",
        "    GPTConfig(\n",
        "        N=1,\n",
        "        vocab_size=len(vocab),\n",
        "        n_embeddings=100,\n",
        "        context_length=context_length,\n",
        "        n_heads=10,\n",
        "        ff_scale=4\n",
        "    )\n",
        ")\n",
        "optim = torch.optim.Adam(model.parameters())\n",
        "(sum([p.numel() for p in model.parameters()]))"
      ]
    },
    {
      "cell_type": "code",
      "execution_count": 30,
      "metadata": {},
      "outputs": [],
      "source": [
        "losses = []"
      ]
    },
    {
      "cell_type": "code",
      "execution_count": 31,
      "metadata": {},
      "outputs": [
        {
          "name": "stderr",
          "output_type": "stream",
          "text": [
            "100%|██████████| 10/10 [00:00<00:00, 46.38it/s]\n"
          ]
        },
        {
          "data": {
            "text/plain": [
              "tensor(3.9516)"
            ]
          },
          "execution_count": 31,
          "metadata": {},
          "output_type": "execute_result"
        },
        {
          "data": {
            "image/png": "[encoded data removed]",
            "text/plain": [
              "<Figure size 640x480 with 1 Axes>"
            ]
          },
          "metadata": {},
          "output_type": "display_data"
        }
      ],
      "source": [
        "batch_size = 32\n",
        "def get_batch(size):\n",
        "    indices = torch.randint(len(data) - context_length, (size,))\n",
        "    return (x_train[indices]), (y_train[indices])\n",
        "import tqdm\n",
        "for _ in tqdm.tqdm(range(10)):\n",
        "    x, y = get_batch(batch_size)\n",
        "    optim.zero_grad(set_to_none=True)\n",
        "    logits, loss = model(x, y)\n",
        "    loss.backward()\n",
        "    optim.step()\n",
        "    losses.append(loss.item())\n",
        "import matplotlib.pyplot as plt\n",
        "plt.plot(losses)\n",
        "torch.mean(torch.tensor(losses[-100:]))"
      ]
    },
    {
      "cell_type": "code",
      "execution_count": 32,
      "metadata": {},
      "outputs": [
        {
          "name": "stdout",
          "output_type": "stream",
          "text": [
            "[44, 44]\n"
          ]
        },
        {
          "data": {
            "text/plain": [
              "'        ff\\n  uVinRkendkPuSs ae df.VO& v e eigzZI e seSszas  ar,&B  \\nsiean\\n\\nsn fe ffhi, fYeioCtzaZke '"
            ]
          },
          "execution_count": 32,
          "metadata": {},
          "output_type": "execute_result"
        }
      ],
      "source": [
        "def generate(model,context,length):\n",
        "    context = encode(context)\n",
        "    print(context)\n",
        "    if len(context)<context_length:\n",
        "        context = ([stoi[\" \"]]*(context_length-len(context))) + context\n",
        "    text = context\n",
        "    while len(context)<length:\n",
        "        d = text[-context_length:]\n",
        "        logits ,_= model(torch.tensor([d]))\n",
        "        logits = logits[:,-1,:]\n",
        "        next = torch.multinomial(logits.softmax(-1),1)[0]\n",
        "        text.append(next[0].item())\n",
        "    return decode(text)\n",
        "generate(model,\"ff\",100)"
      ]
    }
  ],
  "metadata": {
    "accelerator": "GPU",
    "colab": {
      "gpuType": "T4",
      "provenance": []
    },
    "kernelspec": {
      "display_name": "Python 3",
      "name": "python3"
    },
    "language_info": {
      "codemirror_mode": {
        "name": "ipython",
        "version": 3
      },
      "file_extension": ".py",
      "mimetype": "text/x-python",
      "name": "python",
      "nbconvert_exporter": "python",
      "pygments_lexer": "ipython3",
      "version": "3.9.5"
    },
    "orig_nbformat": 4
  },
  "nbformat": 4,
  "nbformat_minor": 0
}
