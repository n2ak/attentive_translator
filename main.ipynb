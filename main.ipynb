{
 "cells": [
  {
   "cell_type": "code",
   "execution_count": 1,
   "metadata": {},
   "outputs": [
    {
     "name": "stdout",
     "output_type": "stream",
     "text": [
      "The autoreload extension is already loaded. To reload it, use:\n",
      "  %reload_ext autoreload\n"
     ]
    }
   ],
   "source": [
    "%load_ext autoreload\n",
    "%autoreload 2"
   ]
  },
  {
   "cell_type": "code",
   "execution_count": 31,
   "metadata": {},
   "outputs": [
    {
     "data": {
      "text/plain": [
       "<torch._C.Generator at 0x26622914270>"
      ]
     },
     "execution_count": 31,
     "metadata": {},
     "output_type": "execute_result"
    }
   ],
   "source": [
    "from model import *\n",
    "from test import test\n",
    "import string\n",
    "from utils import *\n",
    "torch.manual_seed(1337)"
   ]
  },
  {
   "cell_type": "code",
   "execution_count": 3,
   "metadata": {},
   "outputs": [],
   "source": [
    "\n",
    "def load_data(X,Y,block_size):\n",
    "    features = []\n",
    "    target = []\n",
    "    def s_e(text,i,block_size):\n",
    "        start = i\n",
    "        end = i + block_size\n",
    "        start = min(len(text) - block_size,start)\n",
    "        end = min(len(text),end)\n",
    "        return text[start:end]\n",
    "    for f,t in zip(X,Y):\n",
    "        for i in range(len(f) - block_size + 1):\n",
    "            features.append(s_e(f,i,block_size))\n",
    "            target.append(s_e(t,i,block_size))\n",
    "    features = torch.tensor(features)\n",
    "    target = torch.tensor(target)\n",
    "    return features,target"
   ]
  },
  {
   "cell_type": "code",
   "execution_count": 4,
   "metadata": {},
   "outputs": [],
   "source": [
    "N = 1\n",
    "n_embeddings = 32\n",
    "block_size = 10\n",
    "n_head = 4"
   ]
  },
  {
   "cell_type": "code",
   "execution_count": 84,
   "metadata": {},
   "outputs": [],
   "source": [
    "def prepare_data(\n",
    "        src_path,\n",
    "        dst_path,\n",
    "        block_size,\n",
    "        start_token=\"$\",\n",
    "        end_token = \"^\",\n",
    "        add_start_end_tokens=True,\n",
    "        device=\"cpu\"\n",
    "    ):\n",
    "    src = load_txt(src_path)\n",
    "    dst = load_txt(dst_path)\n",
    "\n",
    "    src_vocab = get_vocab(src) if not add_start_end_tokens else get_vocab(src,start=start_token,end=end_token)\n",
    "    dst_vocab = get_vocab(dst) if not add_start_end_tokens else get_vocab(dst,start=start_token,end=end_token)\n",
    "\n",
    "    src = [encode(txt,src_vocab) for txt in src]\n",
    "    dst = [encode(txt,dst_vocab) for txt in dst]\n",
    "    \n",
    "    src,dst = load_data(src,dst,block_size)\n",
    "    if add_start_end_tokens:\n",
    "        src = include_tokens(\n",
    "            src,\n",
    "            start_token_index=src_vocab.index(start_token),\n",
    "        )\n",
    "        dst = include_tokens(\n",
    "            dst,\n",
    "            end_token_index=dst_vocab.index(end_token),\n",
    "        )\n",
    "    return src.to(device=device),src_vocab,dst.to(device=device),dst_vocab\n",
    "src,src_vocab,dst,dst_vocab = prepare_data(\n",
    "    \"./eng.txt\",\n",
    "    \"./fr.txt\",\n",
    "    block_size,\n",
    "    add_start_end_tokens=True,\n",
    ")\n",
    "encoder_vocab_size = len(src_vocab)\n",
    "decoder_vocab_size = len(dst_vocab)"
   ]
  },
  {
   "cell_type": "code",
   "execution_count": 81,
   "metadata": {},
   "outputs": [
    {
     "ename": "RuntimeError",
     "evalue": "Expected one of cpu, cuda, ipu, xpu, mkldnn, opengl, opencl, ideep, hip, ve, fpga, ort, xla, lazy, vulkan, mps, meta, hpu, mtia, privateuseone device type at start of device string: gpu",
     "output_type": "error",
     "traceback": [
      "\u001b[1;31m---------------------------------------------------------------------------\u001b[0m",
      "\u001b[1;31mRuntimeError\u001b[0m                              Traceback (most recent call last)",
      "Cell \u001b[1;32mIn[81], line 1\u001b[0m\n\u001b[1;32m----> 1\u001b[0m torch\u001b[39m.\u001b[39;49mtensor(\u001b[39m1\u001b[39;49m,device\u001b[39m=\u001b[39;49m\u001b[39m\"\u001b[39;49m\u001b[39mgpu\u001b[39;49m\u001b[39m\"\u001b[39;49m)\n",
      "\u001b[1;31mRuntimeError\u001b[0m: Expected one of cpu, cuda, ipu, xpu, mkldnn, opengl, opencl, ideep, hip, ve, fpga, ort, xla, lazy, vulkan, mps, meta, hpu, mtia, privateuseone device type at start of device string: gpu"
     ]
    }
   ],
   "source": []
  },
  {
   "cell_type": "code",
   "execution_count": 86,
   "metadata": {},
   "outputs": [],
   "source": [
    "device = \"cpu\"\n",
    "model = AttentiveTranslator(\n",
    "    1,\n",
    "    encoder_vocab_size,\n",
    "    decoder_vocab_size,\n",
    "    n_embeddings,\n",
    "    n_head,\n",
    "    src.shape,\n",
    "    dst.shape,\n",
    "    device=device\n",
    ").to(device=device)"
   ]
  },
  {
   "cell_type": "code",
   "execution_count": 7,
   "metadata": {},
   "outputs": [],
   "source": [
    "from train import * "
   ]
  },
  {
   "cell_type": "code",
   "execution_count": 18,
   "metadata": {},
   "outputs": [
    {
     "name": "stdout",
     "output_type": "stream",
     "text": [
      "tensor(3.3406, grad_fn=<NllLossBackward0>)\n",
      "tensor(3.2662, grad_fn=<NllLossBackward0>)\n",
      "tensor(3.2202, grad_fn=<NllLossBackward0>)\n",
      "tensor(3.1525, grad_fn=<NllLossBackward0>)\n",
      "tensor(3.1225, grad_fn=<NllLossBackward0>)\n",
      "tensor(3.0972, grad_fn=<NllLossBackward0>)\n",
      "tensor(3.0068, grad_fn=<NllLossBackward0>)\n",
      "tensor(2.9449, grad_fn=<NllLossBackward0>)\n",
      "tensor(2.9824, grad_fn=<NllLossBackward0>)\n",
      "tensor(2.8879, grad_fn=<NllLossBackward0>)\n",
      "tensor(2.7828, grad_fn=<NllLossBackward0>)\n",
      "tensor(2.7834, grad_fn=<NllLossBackward0>)\n",
      "tensor(2.7198, grad_fn=<NllLossBackward0>)\n",
      "tensor(2.6634, grad_fn=<NllLossBackward0>)\n",
      "tensor(2.6538, grad_fn=<NllLossBackward0>)\n"
     ]
    }
   ],
   "source": [
    "optim = torch.optim.Adam(\n",
    "    model.parameters()\n",
    ")\n",
    "loss_fn = torch.nn.functional.cross_entropy\n",
    "data_loader = arrays_to_loader(src,dst,32)\n",
    "train(model,optim,loss_fn,5,data_loader)"
   ]
  },
  {
   "cell_type": "code",
   "execution_count": 73,
   "metadata": {},
   "outputs": [
    {
     "data": {
      "text/plain": [
       "(23, 28)"
      ]
     },
     "execution_count": 73,
     "metadata": {},
     "output_type": "execute_result"
    }
   ],
   "source": [
    "len(src_vocab),len(dst_vocab)"
   ]
  },
  {
   "cell_type": "code",
   "execution_count": 79,
   "metadata": {},
   "outputs": [
    {
     "data": {
      "text/plain": [
       "'ppppppppppppppppp'"
      ]
     },
     "execution_count": 79,
     "metadata": {},
     "output_type": "execute_result"
    }
   ],
   "source": [
    "from test import test\n",
    "test(model,\"hello there ho are ou doing\",block_size,src_vocab,dst_vocab)"
   ]
  }
 ],
 "metadata": {
  "kernelspec": {
   "display_name": "Python 3",
   "language": "python",
   "name": "python3"
  },
  "language_info": {
   "codemirror_mode": {
    "name": "ipython",
    "version": 3
   },
   "file_extension": ".py",
   "mimetype": "text/x-python",
   "name": "python",
   "nbconvert_exporter": "python",
   "pygments_lexer": "ipython3",
   "version": "3.9.5"
  },
  "orig_nbformat": 4
 },
 "nbformat": 4,
 "nbformat_minor": 2
}
